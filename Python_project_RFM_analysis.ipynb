{
  "nbformat": 4,
  "nbformat_minor": 0,
  "metadata": {
    "colab": {
      "provenance": [],
      "authorship_tag": "ABX9TyOT72jz+0MFH8bPcyoVpc+J",
      "include_colab_link": true
    },
    "kernelspec": {
      "name": "python3",
      "display_name": "Python 3"
    },
    "language_info": {
      "name": "python"
    }
  },
  "cells": [
    {
      "cell_type": "markdown",
      "metadata": {
        "id": "view-in-github",
        "colab_type": "text"
      },
      "source": [
        "<a href=\"https://colab.research.google.com/github/liisareet/AdventureWorksQueries/blob/main/Python_project_RFM_analysis.ipynb\" target=\"_parent\"><img src=\"https://colab.research.google.com/assets/colab-badge.svg\" alt=\"Open In Colab\"/></a>"
      ]
    },
    {
      "cell_type": "markdown",
      "source": [
        "# **Customer Segmentation & RFM analysis**\n",
        "\n",
        "[Working dataset](https://console.cloud.google.com/bigquery?authuser=1&project=tc-da-1&d=turing_data_analytics&p=tc-da-1&t=rfm&page=table&ws=!1m5!1m4!4m3!1stc-da-1!2sturing_data_analytics!3srfm)\n",
        "\n",
        "\n",
        "Assignment overview:\n",
        "*   Create RFM analysis based on Turing dataset \"rfm\", 1 year of data - 2010-12-01 to 2011-12-01\n",
        "*   SQL used for data cleaning, calculation and data selection\n",
        "*   Calculate recency, frequency and money value and convert those values into R, F and M scores\n",
        "*   Segment customers based on R, F and M scores or combined RFM score\n",
        "*   Present analyses and insights, where the marketing team should focus on.\n",
        "\n",
        "\n",
        "Approach used:\n",
        "*   Segmentation is based on combinations of separate R, F and M scores rather than the combined RFM score\n",
        "\n"
      ],
      "metadata": {
        "id": "UM56dFWA-g_A"
      }
    },
    {
      "cell_type": "code",
      "execution_count": 31,
      "metadata": {
        "id": "q-IRcAO3atSn"
      },
      "outputs": [],
      "source": [
        "# Workbook setup\n",
        "\n",
        "import pandas as pd\n",
        "import pandas_gbq\n",
        "import numpy as np\n",
        "import plotly.express as px\n",
        "%reload_ext pycodestyle_magic"
      ]
    },
    {
      "cell_type": "code",
      "source": [
        "# Authenticate user\n",
        "\n",
        "from google.colab import auth\n",
        "auth.authenticate_user()\n",
        "print('Authenticated')"
      ],
      "metadata": {
        "colab": {
          "base_uri": "https://localhost:8080/"
        },
        "id": "lpZbxzQCcUuV",
        "outputId": "cf08d9e4-0249-4cbf-b5ab-1b0c06d6aea9"
      },
      "execution_count": 32,
      "outputs": [
        {
          "output_type": "stream",
          "name": "stdout",
          "text": [
            "Authenticated\n"
          ]
        }
      ]
    },
    {
      "cell_type": "code",
      "source": [
        "# Connect to BigQuery\n",
        "from google.cloud import bigquery\n",
        "client = bigquery.Client()\n",
        "project_id = 'tc-da-1'"
      ],
      "metadata": {
        "id": "I1_iCZxadbOn"
      },
      "execution_count": 33,
      "outputs": []
    },
    {
      "cell_type": "code",
      "source": [
        "# Create Bigquery job object\n",
        "sql = \"\"\"\n",
        "WITH\n",
        "-- Clean dataset\n",
        "customerdata AS (\n",
        "SELECT\n",
        "CustomerID, InvoiceDate, InvoiceNo, SUM(LinePrice) AS TotalDue\n",
        "FROM (\n",
        "SELECT CustomerID, InvoiceDate, InvoiceNo, (Quantity*UnitPrice) AS LinePrice\n",
        "FROM `tc-da-1.turing_data_analytics.rfm`\n",
        "WHERE CustomerId IS NOT NULL\n",
        "AND InvoiceDate BETWEEN '2010-12-01' AND '2011-12-01'\n",
        "AND (Quantity*UnitPrice) > 0)\n",
        "GROUP BY CustomerID, InvoiceDate, InvoiceNo),\n",
        "\n",
        "-- Calculation for F & M\n",
        "frequency_monetary AS (\n",
        "  SELECT CustomerID, MAX(InvoiceDate) AS last_purchase_date,\n",
        "  COUNT(DISTINCT InvoiceNo) AS frequency,\n",
        "  SUM(TotalDue) AS monetary\n",
        "  FROM customerdata\n",
        "  GROUP BY CustomerID\n",
        "),\n",
        "\n",
        "-- Calculation for R\n",
        "recency_t AS (\n",
        "SELECT *,\n",
        "DATE_DIFF(reference_date,last_purchase_date,DAY) AS recency\n",
        "FROM (SELECT *,MAX(last_purchase_date) OVER () + INTERVAL 1 DAY AS reference_date FROM frequency_monetary)),\n",
        "\n",
        "-- Determine quartiles for RFM\n",
        "quartiles AS (\n",
        "SELECT  a.*,\n",
        "    b.percentiles[offset(25)] AS m25,\n",
        "    b.percentiles[offset(50)] AS m50,\n",
        "    b.percentiles[offset(75)] AS m75,\n",
        "    c.percentiles[offset(25)] AS f25,\n",
        "    c.percentiles[offset(50)] AS f50,\n",
        "    c.percentiles[offset(75)] AS f75,\n",
        "    d.percentiles[offset(25)] AS r25,\n",
        "    d.percentiles[offset(50)] AS r50,\n",
        "    d.percentiles[offset(75)] AS r75\n",
        "FROM\n",
        "    recency_t a,\n",
        "    (SELECT APPROX_QUANTILES(monetary, 100) percentiles FROM\n",
        "    recency_t) b,\n",
        "    (SELECT APPROX_QUANTILES(frequency, 100) percentiles FROM\n",
        "    recency_t) c,\n",
        "    (SELECT APPROX_QUANTILES(recency, 100) percentiles FROM\n",
        "    recency_t) d),\n",
        "\n",
        "--Assign RFM Score\n",
        "scoring AS (\n",
        "SELECT *,\n",
        "-- recency scoring is reversed\n",
        "CASE WHEN recency <= r25 THEN 4\n",
        "WHEN recency <= r50 AND recency > r25 THEN 3\n",
        "WHEN recency <= r75 AND recency > r50 THEN 2\n",
        "WHEN recency > r75 THEN 1\n",
        "END AS r_score,\n",
        "CASE WHEN frequency <= f25 THEN 1\n",
        "WHEN frequency <= f50 AND frequency > f25 THEN 2\n",
        "WHEN frequency <= f75 AND frequency > f50 THEN 3\n",
        "WHEN frequency > f75 THEN 4\n",
        "END AS f_score,\n",
        "CASE WHEN monetary <= m25 THEN 1\n",
        "WHEN monetary <= m50 AND monetary > m25 THEN 2\n",
        "WHEN monetary <= m75 AND monetary > m50 THEN 3\n",
        "WHEN monetary > m75 THEN 4\n",
        "END AS m_score\n",
        "FROM quartiles)\n",
        "\n",
        "SELECT\n",
        "CustomerID,\n",
        "recency,\n",
        "monetary,\n",
        "frequency,\n",
        "r_score,\n",
        "f_score,\n",
        "m_score,\n",
        "CASE\n",
        "WHEN (r_score = 4 AND f_score = 4 AND m_score = 4) THEN 'Best Customers'\n",
        "WHEN (r_score = 4 AND f_score IN(3,4) AND m_score IN (3,4)) THEN 'Loyal Customers'\n",
        "WHEN (r_score IN (3,4) AND f_score > 1 AND m_score IN (2,3,4)) THEN 'Potential Loyalists'\n",
        "WHEN (r_score = 4 AND f_score IN (1,2,3,4) AND m_score IN (1,2,3,4)) THEN 'New and recent customers'\n",
        "WHEN (r_score IN (2,3,4) AND f_score IN (3,4) AND m_score IN (1,3,4)) THEN 'Needing attention'\n",
        "WHEN (r_score IN (2,3) AND f_score IN (1,2) AND m_score IN (1,2,3,4)) THEN 'About to sleep'\n",
        "WHEN (r_score = 1 AND f_score IN (2,3) AND m_score IN (2,3)) THEN 'Slipping customers'\n",
        "WHEN (r_score = 1 AND f_score = 4 AND m_score = 4) THEN 'At risk'\n",
        "WHEN (r_score = 1 AND f_score = 1 AND m_score IN (1,2,3,4)) THEN 'Lost'\n",
        "  END AS customer_segment\n",
        "FROM scoring\n",
        "\"\"\""
      ],
      "metadata": {
        "id": "jtaWV2SFgY34"
      },
      "execution_count": 34,
      "outputs": []
    },
    {
      "cell_type": "markdown",
      "source": [
        "### **Segmentation descriptions**\n",
        "\n",
        "\n",
        "\n",
        "| Segment                  | Characteristics                                                                                          |\n",
        "|--------------------------|----------------------------------------------------------------------------------------------------------|\n",
        "| Best customers           | Bought recently and often and spend the most                                                             |\n",
        "| Loyal customers          | Spend good money with us often. Responsive to promotions                                                 |\n",
        "| Potential loyalists      | Recent customers, spent a good amount and bought more than once                                          |\n",
        "| New and recent customers | Bought most recently. Either first order or haven't spent much.                                          |\n",
        "| Needing attention        | Above average recency, frequency and monetary values, but may not have bought very recently              |\n",
        "| About to sleep           | Below average recency, frequency and monetary values. Will lose if not reactivated                       |\n",
        "| Slipping customers       | Spent big money and purchased often, but haven’t returned in a long time. Need to bring them back.       |\n",
        "| Can't lose them          | Made biggest purchases and often, but haven’t returned in a long time                                    |\n",
        "| Hibernating              | Last purchase was long back. Low spenders, low number of orders                                          |\n",
        "| Lost                     | Lowest recency, frequency and monetary scores                                                            |\n"
      ],
      "metadata": {
        "id": "dcQlWcLSMCIr"
      }
    },
    {
      "cell_type": "code",
      "source": [
        "# Execute the query, create dataframe and check result\n",
        "df = pandas_gbq.read_gbq(sql, project_id=project_id)\n",
        "print(df.head())\n",
        "print('no of rows in dataframe: ', df.shape[0])"
      ],
      "metadata": {
        "colab": {
          "base_uri": "https://localhost:8080/"
        },
        "id": "6taXRtYxhLFv",
        "outputId": "3e0b624a-9643-4354-b5fe-55da7ff52445"
      },
      "execution_count": 35,
      "outputs": [
        {
          "output_type": "stream",
          "name": "stdout",
          "text": [
            "Downloading: 100%|\u001b[32m██████████\u001b[0m|\n",
            "   CustomerID  recency  monetary  frequency  r_score  f_score  m_score  \\\n",
            "0       15108      133   1300.25          4        2        3        3   \n",
            "1       17159       13   1538.88          3        4        3        3   \n",
            "2       14624       49    225.85          2        3        2        1   \n",
            "3       14138       55    638.21          1        2        1        2   \n",
            "4       16444       38    654.67          4        3        3        2   \n",
            "\n",
            "      customer_segment  \n",
            "0    Needing attention  \n",
            "1      Loyal Customers  \n",
            "2       About to sleep  \n",
            "3       About to sleep  \n",
            "4  Potential Loyalists  \n",
            "no of rows in dataframe:  4297\n"
          ]
        }
      ]
    },
    {
      "cell_type": "code",
      "source": [
        "# Overview of dataset\n",
        "customer_count = df['CustomerID'].nunique()\n",
        "total_sales = df['monetary'].sum()\n",
        "average_order_value = (total_sales / df['frequency'].sum()).round(2)\n",
        "average_frequency = df['frequency'].mean().round()\n",
        "print(f\"Count of Customers: {customer_count}\")\n",
        "print(f\"Total Sales: {total_sales} USD\")\n",
        "print(f\"Average Order Value: {average_order_value} USD\")\n",
        "print(f\"Average Frequency: {average_frequency}\")"
      ],
      "metadata": {
        "colab": {
          "base_uri": "https://localhost:8080/"
        },
        "id": "KlxOl6dTm1AV",
        "outputId": "a4d37586-6714-4db8-c431-3be52ed6844d"
      },
      "execution_count": 21,
      "outputs": [
        {
          "output_type": "stream",
          "name": "stdout",
          "text": [
            "Count of Customers: 4297\n",
            "Total Sales: 8393215.114 USD\n",
            "Average Order Value: 472.75 USD\n",
            "Average Frequency: 4.0\n"
          ]
        }
      ]
    },
    {
      "cell_type": "code",
      "source": [
        "# Create bubble chart to show customer segment sizes\n",
        "\n",
        "agg_df = df.groupby('customer_segment').agg(\n",
        "    recency_avg=('recency', 'mean'),\n",
        "    frequency_avg=('frequency', 'mean'),\n",
        "    monetary_total=('monetary', 'sum')\n",
        ").reset_index()\n",
        "\n",
        "fig = px.scatter(\n",
        "    agg_df,\n",
        "    x='recency_avg',\n",
        "    y='frequency_avg',\n",
        "    size='monetary_total',\n",
        "    color='customer_segment',\n",
        "    text='customer_segment',\n",
        "    hover_name='customer_segment',\n",
        "    title='Customer Segment Sizes (bubble size indicating monetary value)',\n",
        "    color_discrete_sequence=px.colors.qualitative.Pastel,\n",
        "    labels={'recency_avg': 'Average Recency(days)',\n",
        "            'frequency_avg': 'Average Frequency',\n",
        "            'monetary_total': 'Total Monetary'},\n",
        "    size_max=50\n",
        ")\n",
        "\n",
        "fig.update_traces(textposition='top center')\n",
        "fig.update_layout(showlegend=False, width=1700, height=700)\n",
        "fig.show()"
      ],
      "metadata": {
        "colab": {
          "base_uri": "https://localhost:8080/",
          "height": 717
        },
        "id": "mY5UHp9mpPd6",
        "outputId": "f78f10b4-a832-4509-e72a-071ec49391fe"
      },
      "execution_count": 36,
      "outputs": [
        {
          "output_type": "display_data",
          "data": {
            "text/html": [
              "<html>\n",
              "<head><meta charset=\"utf-8\" /></head>\n",
              "<body>\n",
              "    <div>            <script src=\"https://cdnjs.cloudflare.com/ajax/libs/mathjax/2.7.5/MathJax.js?config=TeX-AMS-MML_SVG\"></script><script type=\"text/javascript\">if (window.MathJax && window.MathJax.Hub && window.MathJax.Hub.Config) {window.MathJax.Hub.Config({SVG: {font: \"STIX-Web\"}});}</script>                <script type=\"text/javascript\">window.PlotlyConfig = {MathJaxConfig: 'local'};</script>\n",
              "        <script charset=\"utf-8\" src=\"https://cdn.plot.ly/plotly-2.24.1.min.js\"></script>                <div id=\"8131d0dc-33e5-439f-a8e9-f4e2f9fff660\" class=\"plotly-graph-div\" style=\"height:700px; width:1700px;\"></div>            <script type=\"text/javascript\">                                    window.PLOTLYENV=window.PLOTLYENV || {};                                    if (document.getElementById(\"8131d0dc-33e5-439f-a8e9-f4e2f9fff660\")) {                    Plotly.newPlot(                        \"8131d0dc-33e5-439f-a8e9-f4e2f9fff660\",                        [{\"hovertemplate\":\"\\u003cb\\u003e%{hovertext}\\u003c\\u002fb\\u003e\\u003cbr\\u003e\\u003cbr\\u003ecustomer_segment=%{text}\\u003cbr\\u003eAverage Recency(days)=%{x}\\u003cbr\\u003eAverage Frequency=%{y}\\u003cbr\\u003eTotal Monetary=%{marker.size}\\u003cextra\\u003e\\u003c\\u002fextra\\u003e\",\"hovertext\":[\"About to sleep\"],\"legendgroup\":\"About to sleep\",\"marker\":{\"color\":\"rgb(102, 197, 204)\",\"size\":[481771.901],\"sizemode\":\"area\",\"sizeref\":1606.590192,\"symbol\":\"circle\"},\"mode\":\"markers+text\",\"name\":\"About to sleep\",\"orientation\":\"v\",\"showlegend\":true,\"text\":[\"About to sleep\"],\"x\":[68.4392523364486],\"xaxis\":\"x\",\"y\":[1.2866043613707165],\"yaxis\":\"y\",\"type\":\"scatter\",\"textposition\":\"top center\"},{\"hovertemplate\":\"\\u003cb\\u003e%{hovertext}\\u003c\\u002fb\\u003e\\u003cbr\\u003e\\u003cbr\\u003ecustomer_segment=%{text}\\u003cbr\\u003eAverage Recency(days)=%{x}\\u003cbr\\u003eAverage Frequency=%{y}\\u003cbr\\u003eTotal Monetary=%{marker.size}\\u003cextra\\u003e\\u003c\\u002fextra\\u003e\",\"hovertext\":[\"At risk\"],\"legendgroup\":\"At risk\",\"marker\":{\"color\":\"rgb(246, 207, 113)\",\"size\":[51338.6],\"sizemode\":\"area\",\"sizeref\":1606.590192,\"symbol\":\"circle\"},\"mode\":\"markers+text\",\"name\":\"At risk\",\"orientation\":\"v\",\"showlegend\":true,\"text\":[\"At risk\"],\"x\":[198.5],\"xaxis\":\"x\",\"y\":[10.071428571428571],\"yaxis\":\"y\",\"type\":\"scatter\",\"textposition\":\"top center\"},{\"hovertemplate\":\"\\u003cb\\u003e%{hovertext}\\u003c\\u002fb\\u003e\\u003cbr\\u003e\\u003cbr\\u003ecustomer_segment=%{text}\\u003cbr\\u003eAverage Recency(days)=%{x}\\u003cbr\\u003eAverage Frequency=%{y}\\u003cbr\\u003eTotal Monetary=%{marker.size}\\u003cextra\\u003e\\u003c\\u002fextra\\u003e\",\"hovertext\":[\"Best Customers\"],\"legendgroup\":\"Best Customers\",\"marker\":{\"color\":\"rgb(248, 156, 116)\",\"size\":[4016475.48],\"sizemode\":\"area\",\"sizeref\":1606.590192,\"symbol\":\"circle\"},\"mode\":\"markers+text\",\"name\":\"Best Customers\",\"orientation\":\"v\",\"showlegend\":true,\"text\":[\"Best Customers\"],\"x\":[7.404157043879907],\"xaxis\":\"x\",\"y\":[15.251732101616629],\"yaxis\":\"y\",\"type\":\"scatter\",\"textposition\":\"top center\"},{\"hovertemplate\":\"\\u003cb\\u003e%{hovertext}\\u003c\\u002fb\\u003e\\u003cbr\\u003e\\u003cbr\\u003ecustomer_segment=%{text}\\u003cbr\\u003eAverage Recency(days)=%{x}\\u003cbr\\u003eAverage Frequency=%{y}\\u003cbr\\u003eTotal Monetary=%{marker.size}\\u003cextra\\u003e\\u003c\\u002fextra\\u003e\",\"hovertext\":[\"Lost\"],\"legendgroup\":\"Lost\",\"marker\":{\"color\":\"rgb(220, 176, 242)\",\"size\":[298388.63],\"sizemode\":\"area\",\"sizeref\":1606.590192,\"symbol\":\"circle\"},\"mode\":\"markers+text\",\"name\":\"Lost\",\"orientation\":\"v\",\"showlegend\":true,\"text\":[\"Lost\"],\"x\":[259.41818181818184],\"xaxis\":\"x\",\"y\":[1.0],\"yaxis\":\"y\",\"type\":\"scatter\",\"textposition\":\"top center\"},{\"hovertemplate\":\"\\u003cb\\u003e%{hovertext}\\u003c\\u002fb\\u003e\\u003cbr\\u003e\\u003cbr\\u003ecustomer_segment=%{text}\\u003cbr\\u003eAverage Recency(days)=%{x}\\u003cbr\\u003eAverage Frequency=%{y}\\u003cbr\\u003eTotal Monetary=%{marker.size}\\u003cextra\\u003e\\u003c\\u002fextra\\u003e\",\"hovertext\":[\"Loyal Customers\"],\"legendgroup\":\"Loyal Customers\",\"marker\":{\"color\":\"rgb(135, 197, 95)\",\"size\":[422837.36],\"sizemode\":\"area\",\"sizeref\":1606.590192,\"symbol\":\"circle\"},\"mode\":\"markers+text\",\"name\":\"Loyal Customers\",\"orientation\":\"v\",\"showlegend\":true,\"text\":[\"Loyal Customers\"],\"x\":[8.538983050847458],\"xaxis\":\"x\",\"y\":[4.576271186440678],\"yaxis\":\"y\",\"type\":\"scatter\",\"textposition\":\"top center\"},{\"hovertemplate\":\"\\u003cb\\u003e%{hovertext}\\u003c\\u002fb\\u003e\\u003cbr\\u003e\\u003cbr\\u003ecustomer_segment=%{text}\\u003cbr\\u003eAverage Recency(days)=%{x}\\u003cbr\\u003eAverage Frequency=%{y}\\u003cbr\\u003eTotal Monetary=%{marker.size}\\u003cextra\\u003e\\u003c\\u002fextra\\u003e\",\"hovertext\":[\"Needing attention\"],\"legendgroup\":\"Needing attention\",\"marker\":{\"color\":\"rgb(158, 185, 243)\",\"size\":[683418.5599999999],\"sizemode\":\"area\",\"sizeref\":1606.590192,\"symbol\":\"circle\"},\"mode\":\"markers+text\",\"name\":\"Needing attention\",\"orientation\":\"v\",\"showlegend\":true,\"text\":[\"Needing attention\"],\"x\":[81.5],\"xaxis\":\"x\",\"y\":[4.733516483516484],\"yaxis\":\"y\",\"type\":\"scatter\",\"textposition\":\"top center\"},{\"hovertemplate\":\"\\u003cb\\u003e%{hovertext}\\u003c\\u002fb\\u003e\\u003cbr\\u003e\\u003cbr\\u003ecustomer_segment=%{text}\\u003cbr\\u003eAverage Recency(days)=%{x}\\u003cbr\\u003eAverage Frequency=%{y}\\u003cbr\\u003eTotal Monetary=%{marker.size}\\u003cextra\\u003e\\u003c\\u002fextra\\u003e\",\"hovertext\":[\"New and recent customers\"],\"legendgroup\":\"New and recent customers\",\"marker\":{\"color\":\"rgb(254, 136, 177)\",\"size\":[50557.43],\"sizemode\":\"area\",\"sizeref\":1606.590192,\"symbol\":\"circle\"},\"mode\":\"markers+text\",\"name\":\"New and recent customers\",\"orientation\":\"v\",\"showlegend\":true,\"text\":[\"New and recent customers\"],\"x\":[8.933333333333334],\"xaxis\":\"x\",\"y\":[1.3277777777777777],\"yaxis\":\"y\",\"type\":\"scatter\",\"textposition\":\"top center\"},{\"hovertemplate\":\"\\u003cb\\u003e%{hovertext}\\u003c\\u002fb\\u003e\\u003cbr\\u003e\\u003cbr\\u003ecustomer_segment=%{text}\\u003cbr\\u003eAverage Recency(days)=%{x}\\u003cbr\\u003eAverage Frequency=%{y}\\u003cbr\\u003eTotal Monetary=%{marker.size}\\u003cextra\\u003e\\u003c\\u002fextra\\u003e\",\"hovertext\":[\"Potential Loyalists\"],\"legendgroup\":\"Potential Loyalists\",\"marker\":{\"color\":\"rgb(201, 219, 116)\",\"size\":[2026957.271],\"sizemode\":\"area\",\"sizeref\":1606.590192,\"symbol\":\"circle\"},\"mode\":\"markers+text\",\"name\":\"Potential Loyalists\",\"orientation\":\"v\",\"showlegend\":true,\"text\":[\"Potential Loyalists\"],\"x\":[26.0225321888412],\"xaxis\":\"x\",\"y\":[5.005364806866953],\"yaxis\":\"y\",\"type\":\"scatter\",\"textposition\":\"top center\"},{\"hovertemplate\":\"\\u003cb\\u003e%{hovertext}\\u003c\\u002fb\\u003e\\u003cbr\\u003e\\u003cbr\\u003ecustomer_segment=%{text}\\u003cbr\\u003eAverage Recency(days)=%{x}\\u003cbr\\u003eAverage Frequency=%{y}\\u003cbr\\u003eTotal Monetary=%{marker.size}\\u003cextra\\u003e\\u003c\\u002fextra\\u003e\",\"hovertext\":[\"Slipping customers\"],\"legendgroup\":\"Slipping customers\",\"marker\":{\"color\":\"rgb(139, 224, 164)\",\"size\":[156611.27],\"sizemode\":\"area\",\"sizeref\":1606.590192,\"symbol\":\"circle\"},\"mode\":\"markers+text\",\"name\":\"Slipping customers\",\"orientation\":\"v\",\"showlegend\":true,\"text\":[\"Slipping customers\"],\"x\":[212.86222222222221],\"xaxis\":\"x\",\"y\":[2.457777777777778],\"yaxis\":\"y\",\"type\":\"scatter\",\"textposition\":\"top center\"}],                        {\"template\":{\"data\":{\"histogram2dcontour\":[{\"type\":\"histogram2dcontour\",\"colorbar\":{\"outlinewidth\":0,\"ticks\":\"\"},\"colorscale\":[[0.0,\"#0d0887\"],[0.1111111111111111,\"#46039f\"],[0.2222222222222222,\"#7201a8\"],[0.3333333333333333,\"#9c179e\"],[0.4444444444444444,\"#bd3786\"],[0.5555555555555556,\"#d8576b\"],[0.6666666666666666,\"#ed7953\"],[0.7777777777777778,\"#fb9f3a\"],[0.8888888888888888,\"#fdca26\"],[1.0,\"#f0f921\"]]}],\"choropleth\":[{\"type\":\"choropleth\",\"colorbar\":{\"outlinewidth\":0,\"ticks\":\"\"}}],\"histogram2d\":[{\"type\":\"histogram2d\",\"colorbar\":{\"outlinewidth\":0,\"ticks\":\"\"},\"colorscale\":[[0.0,\"#0d0887\"],[0.1111111111111111,\"#46039f\"],[0.2222222222222222,\"#7201a8\"],[0.3333333333333333,\"#9c179e\"],[0.4444444444444444,\"#bd3786\"],[0.5555555555555556,\"#d8576b\"],[0.6666666666666666,\"#ed7953\"],[0.7777777777777778,\"#fb9f3a\"],[0.8888888888888888,\"#fdca26\"],[1.0,\"#f0f921\"]]}],\"heatmap\":[{\"type\":\"heatmap\",\"colorbar\":{\"outlinewidth\":0,\"ticks\":\"\"},\"colorscale\":[[0.0,\"#0d0887\"],[0.1111111111111111,\"#46039f\"],[0.2222222222222222,\"#7201a8\"],[0.3333333333333333,\"#9c179e\"],[0.4444444444444444,\"#bd3786\"],[0.5555555555555556,\"#d8576b\"],[0.6666666666666666,\"#ed7953\"],[0.7777777777777778,\"#fb9f3a\"],[0.8888888888888888,\"#fdca26\"],[1.0,\"#f0f921\"]]}],\"heatmapgl\":[{\"type\":\"heatmapgl\",\"colorbar\":{\"outlinewidth\":0,\"ticks\":\"\"},\"colorscale\":[[0.0,\"#0d0887\"],[0.1111111111111111,\"#46039f\"],[0.2222222222222222,\"#7201a8\"],[0.3333333333333333,\"#9c179e\"],[0.4444444444444444,\"#bd3786\"],[0.5555555555555556,\"#d8576b\"],[0.6666666666666666,\"#ed7953\"],[0.7777777777777778,\"#fb9f3a\"],[0.8888888888888888,\"#fdca26\"],[1.0,\"#f0f921\"]]}],\"contourcarpet\":[{\"type\":\"contourcarpet\",\"colorbar\":{\"outlinewidth\":0,\"ticks\":\"\"}}],\"contour\":[{\"type\":\"contour\",\"colorbar\":{\"outlinewidth\":0,\"ticks\":\"\"},\"colorscale\":[[0.0,\"#0d0887\"],[0.1111111111111111,\"#46039f\"],[0.2222222222222222,\"#7201a8\"],[0.3333333333333333,\"#9c179e\"],[0.4444444444444444,\"#bd3786\"],[0.5555555555555556,\"#d8576b\"],[0.6666666666666666,\"#ed7953\"],[0.7777777777777778,\"#fb9f3a\"],[0.8888888888888888,\"#fdca26\"],[1.0,\"#f0f921\"]]}],\"surface\":[{\"type\":\"surface\",\"colorbar\":{\"outlinewidth\":0,\"ticks\":\"\"},\"colorscale\":[[0.0,\"#0d0887\"],[0.1111111111111111,\"#46039f\"],[0.2222222222222222,\"#7201a8\"],[0.3333333333333333,\"#9c179e\"],[0.4444444444444444,\"#bd3786\"],[0.5555555555555556,\"#d8576b\"],[0.6666666666666666,\"#ed7953\"],[0.7777777777777778,\"#fb9f3a\"],[0.8888888888888888,\"#fdca26\"],[1.0,\"#f0f921\"]]}],\"mesh3d\":[{\"type\":\"mesh3d\",\"colorbar\":{\"outlinewidth\":0,\"ticks\":\"\"}}],\"scatter\":[{\"fillpattern\":{\"fillmode\":\"overlay\",\"size\":10,\"solidity\":0.2},\"type\":\"scatter\"}],\"parcoords\":[{\"type\":\"parcoords\",\"line\":{\"colorbar\":{\"outlinewidth\":0,\"ticks\":\"\"}}}],\"scatterpolargl\":[{\"type\":\"scatterpolargl\",\"marker\":{\"colorbar\":{\"outlinewidth\":0,\"ticks\":\"\"}}}],\"bar\":[{\"error_x\":{\"color\":\"#2a3f5f\"},\"error_y\":{\"color\":\"#2a3f5f\"},\"marker\":{\"line\":{\"color\":\"#E5ECF6\",\"width\":0.5},\"pattern\":{\"fillmode\":\"overlay\",\"size\":10,\"solidity\":0.2}},\"type\":\"bar\"}],\"scattergeo\":[{\"type\":\"scattergeo\",\"marker\":{\"colorbar\":{\"outlinewidth\":0,\"ticks\":\"\"}}}],\"scatterpolar\":[{\"type\":\"scatterpolar\",\"marker\":{\"colorbar\":{\"outlinewidth\":0,\"ticks\":\"\"}}}],\"histogram\":[{\"marker\":{\"pattern\":{\"fillmode\":\"overlay\",\"size\":10,\"solidity\":0.2}},\"type\":\"histogram\"}],\"scattergl\":[{\"type\":\"scattergl\",\"marker\":{\"colorbar\":{\"outlinewidth\":0,\"ticks\":\"\"}}}],\"scatter3d\":[{\"type\":\"scatter3d\",\"line\":{\"colorbar\":{\"outlinewidth\":0,\"ticks\":\"\"}},\"marker\":{\"colorbar\":{\"outlinewidth\":0,\"ticks\":\"\"}}}],\"scattermapbox\":[{\"type\":\"scattermapbox\",\"marker\":{\"colorbar\":{\"outlinewidth\":0,\"ticks\":\"\"}}}],\"scatterternary\":[{\"type\":\"scatterternary\",\"marker\":{\"colorbar\":{\"outlinewidth\":0,\"ticks\":\"\"}}}],\"scattercarpet\":[{\"type\":\"scattercarpet\",\"marker\":{\"colorbar\":{\"outlinewidth\":0,\"ticks\":\"\"}}}],\"carpet\":[{\"aaxis\":{\"endlinecolor\":\"#2a3f5f\",\"gridcolor\":\"white\",\"linecolor\":\"white\",\"minorgridcolor\":\"white\",\"startlinecolor\":\"#2a3f5f\"},\"baxis\":{\"endlinecolor\":\"#2a3f5f\",\"gridcolor\":\"white\",\"linecolor\":\"white\",\"minorgridcolor\":\"white\",\"startlinecolor\":\"#2a3f5f\"},\"type\":\"carpet\"}],\"table\":[{\"cells\":{\"fill\":{\"color\":\"#EBF0F8\"},\"line\":{\"color\":\"white\"}},\"header\":{\"fill\":{\"color\":\"#C8D4E3\"},\"line\":{\"color\":\"white\"}},\"type\":\"table\"}],\"barpolar\":[{\"marker\":{\"line\":{\"color\":\"#E5ECF6\",\"width\":0.5},\"pattern\":{\"fillmode\":\"overlay\",\"size\":10,\"solidity\":0.2}},\"type\":\"barpolar\"}],\"pie\":[{\"automargin\":true,\"type\":\"pie\"}]},\"layout\":{\"autotypenumbers\":\"strict\",\"colorway\":[\"#636efa\",\"#EF553B\",\"#00cc96\",\"#ab63fa\",\"#FFA15A\",\"#19d3f3\",\"#FF6692\",\"#B6E880\",\"#FF97FF\",\"#FECB52\"],\"font\":{\"color\":\"#2a3f5f\"},\"hovermode\":\"closest\",\"hoverlabel\":{\"align\":\"left\"},\"paper_bgcolor\":\"white\",\"plot_bgcolor\":\"#E5ECF6\",\"polar\":{\"bgcolor\":\"#E5ECF6\",\"angularaxis\":{\"gridcolor\":\"white\",\"linecolor\":\"white\",\"ticks\":\"\"},\"radialaxis\":{\"gridcolor\":\"white\",\"linecolor\":\"white\",\"ticks\":\"\"}},\"ternary\":{\"bgcolor\":\"#E5ECF6\",\"aaxis\":{\"gridcolor\":\"white\",\"linecolor\":\"white\",\"ticks\":\"\"},\"baxis\":{\"gridcolor\":\"white\",\"linecolor\":\"white\",\"ticks\":\"\"},\"caxis\":{\"gridcolor\":\"white\",\"linecolor\":\"white\",\"ticks\":\"\"}},\"coloraxis\":{\"colorbar\":{\"outlinewidth\":0,\"ticks\":\"\"}},\"colorscale\":{\"sequential\":[[0.0,\"#0d0887\"],[0.1111111111111111,\"#46039f\"],[0.2222222222222222,\"#7201a8\"],[0.3333333333333333,\"#9c179e\"],[0.4444444444444444,\"#bd3786\"],[0.5555555555555556,\"#d8576b\"],[0.6666666666666666,\"#ed7953\"],[0.7777777777777778,\"#fb9f3a\"],[0.8888888888888888,\"#fdca26\"],[1.0,\"#f0f921\"]],\"sequentialminus\":[[0.0,\"#0d0887\"],[0.1111111111111111,\"#46039f\"],[0.2222222222222222,\"#7201a8\"],[0.3333333333333333,\"#9c179e\"],[0.4444444444444444,\"#bd3786\"],[0.5555555555555556,\"#d8576b\"],[0.6666666666666666,\"#ed7953\"],[0.7777777777777778,\"#fb9f3a\"],[0.8888888888888888,\"#fdca26\"],[1.0,\"#f0f921\"]],\"diverging\":[[0,\"#8e0152\"],[0.1,\"#c51b7d\"],[0.2,\"#de77ae\"],[0.3,\"#f1b6da\"],[0.4,\"#fde0ef\"],[0.5,\"#f7f7f7\"],[0.6,\"#e6f5d0\"],[0.7,\"#b8e186\"],[0.8,\"#7fbc41\"],[0.9,\"#4d9221\"],[1,\"#276419\"]]},\"xaxis\":{\"gridcolor\":\"white\",\"linecolor\":\"white\",\"ticks\":\"\",\"title\":{\"standoff\":15},\"zerolinecolor\":\"white\",\"automargin\":true,\"zerolinewidth\":2},\"yaxis\":{\"gridcolor\":\"white\",\"linecolor\":\"white\",\"ticks\":\"\",\"title\":{\"standoff\":15},\"zerolinecolor\":\"white\",\"automargin\":true,\"zerolinewidth\":2},\"scene\":{\"xaxis\":{\"backgroundcolor\":\"#E5ECF6\",\"gridcolor\":\"white\",\"linecolor\":\"white\",\"showbackground\":true,\"ticks\":\"\",\"zerolinecolor\":\"white\",\"gridwidth\":2},\"yaxis\":{\"backgroundcolor\":\"#E5ECF6\",\"gridcolor\":\"white\",\"linecolor\":\"white\",\"showbackground\":true,\"ticks\":\"\",\"zerolinecolor\":\"white\",\"gridwidth\":2},\"zaxis\":{\"backgroundcolor\":\"#E5ECF6\",\"gridcolor\":\"white\",\"linecolor\":\"white\",\"showbackground\":true,\"ticks\":\"\",\"zerolinecolor\":\"white\",\"gridwidth\":2}},\"shapedefaults\":{\"line\":{\"color\":\"#2a3f5f\"}},\"annotationdefaults\":{\"arrowcolor\":\"#2a3f5f\",\"arrowhead\":0,\"arrowwidth\":1},\"geo\":{\"bgcolor\":\"white\",\"landcolor\":\"#E5ECF6\",\"subunitcolor\":\"white\",\"showland\":true,\"showlakes\":true,\"lakecolor\":\"white\"},\"title\":{\"x\":0.05},\"mapbox\":{\"style\":\"light\"}}},\"xaxis\":{\"anchor\":\"y\",\"domain\":[0.0,1.0],\"title\":{\"text\":\"Average Recency(days)\"}},\"yaxis\":{\"anchor\":\"x\",\"domain\":[0.0,1.0],\"title\":{\"text\":\"Average Frequency\"}},\"legend\":{\"title\":{\"text\":\"customer_segment\"},\"tracegroupgap\":0,\"itemsizing\":\"constant\"},\"title\":{\"text\":\"Customer Segment Sizes (bubble size indicating monetary value)\"},\"showlegend\":false,\"width\":1700,\"height\":700},                        {\"responsive\": true}                    ).then(function(){\n",
              "                            \n",
              "var gd = document.getElementById('8131d0dc-33e5-439f-a8e9-f4e2f9fff660');\n",
              "var x = new MutationObserver(function (mutations, observer) {{\n",
              "        var display = window.getComputedStyle(gd).display;\n",
              "        if (!display || display === 'none') {{\n",
              "            console.log([gd, 'removed!']);\n",
              "            Plotly.purge(gd);\n",
              "            observer.disconnect();\n",
              "        }}\n",
              "}});\n",
              "\n",
              "// Listen for the removal of the full notebook cells\n",
              "var notebookContainer = gd.closest('#notebook-container');\n",
              "if (notebookContainer) {{\n",
              "    x.observe(notebookContainer, {childList: true});\n",
              "}}\n",
              "\n",
              "// Listen for the clearing of the current output cell\n",
              "var outputEl = gd.closest('.output');\n",
              "if (outputEl) {{\n",
              "    x.observe(outputEl, {childList: true});\n",
              "}}\n",
              "\n",
              "                        })                };                            </script>        </div>\n",
              "</body>\n",
              "</html>"
            ]
          },
          "metadata": {}
        }
      ]
    },
    {
      "cell_type": "code",
      "source": [
        "# Create a visual to show customer segmentation split by count of customers\n",
        "\n",
        "customer_segment_counts = df['customer_segment'].value_counts().reset_index()\n",
        "customer_segment_counts.columns = ['customer_segment', 'count']\n",
        "\n",
        "fig = px.treemap(customer_segment_counts,\n",
        "                 path=['customer_segment'],\n",
        "                 values='count',\n",
        "                 title='Customer Segmentation Split by count of customers',\n",
        "                 color='customer_segment',\n",
        "                 color_discrete_sequence=px.colors.qualitative.Prism)\n",
        "\n",
        "fig.data[0].textinfo = 'label+percent root'\n",
        "fig.update_layout(width=1700, height=700)\n",
        "fig.show()"
      ],
      "metadata": {
        "colab": {
          "base_uri": "https://localhost:8080/",
          "height": 717
        },
        "id": "0t-QpzSZs_uv",
        "outputId": "e21598d5-ab6c-4f6d-d9db-c7a93c9699da"
      },
      "execution_count": 27,
      "outputs": [
        {
          "output_type": "display_data",
          "data": {
            "text/html": [
              "<html>\n",
              "<head><meta charset=\"utf-8\" /></head>\n",
              "<body>\n",
              "    <div>            <script src=\"https://cdnjs.cloudflare.com/ajax/libs/mathjax/2.7.5/MathJax.js?config=TeX-AMS-MML_SVG\"></script><script type=\"text/javascript\">if (window.MathJax && window.MathJax.Hub && window.MathJax.Hub.Config) {window.MathJax.Hub.Config({SVG: {font: \"STIX-Web\"}});}</script>                <script type=\"text/javascript\">window.PlotlyConfig = {MathJaxConfig: 'local'};</script>\n",
              "        <script charset=\"utf-8\" src=\"https://cdn.plot.ly/plotly-2.24.1.min.js\"></script>                <div id=\"e2c1d544-de7e-4f92-a535-93ce14919be9\" class=\"plotly-graph-div\" style=\"height:700px; width:1700px;\"></div>            <script type=\"text/javascript\">                                    window.PLOTLYENV=window.PLOTLYENV || {};                                    if (document.getElementById(\"e2c1d544-de7e-4f92-a535-93ce14919be9\")) {                    Plotly.newPlot(                        \"e2c1d544-de7e-4f92-a535-93ce14919be9\",                        [{\"branchvalues\":\"total\",\"customdata\":[[\"About to sleep\"],[\"Slipping customers\"],[\"Lost\"],[\"Best Customers\"],[\"Needing attention\"],[\"Loyal Customers\"],[\"Potential Loyalists\"],[\"At risk\"],[\"New and recent customers\"]],\"domain\":{\"x\":[0.0,1.0],\"y\":[0.0,1.0]},\"hovertemplate\":\"labels=%{label}\\u003cbr\\u003ecount=%{value}\\u003cbr\\u003eparent=%{parent}\\u003cbr\\u003eid=%{id}\\u003cbr\\u003ecustomer_segment=%{customdata[0]}\\u003cextra\\u003e\\u003c\\u002fextra\\u003e\",\"ids\":[\"About to sleep\",\"Slipping customers\",\"Lost\",\"Best Customers\",\"Needing attention\",\"Loyal Customers\",\"Potential Loyalists\",\"At risk\",\"New and recent customers\"],\"labels\":[\"About to sleep\",\"Slipping customers\",\"Lost\",\"Best Customers\",\"Needing attention\",\"Loyal Customers\",\"Potential Loyalists\",\"At risk\",\"New and recent customers\"],\"marker\":{\"colors\":[\"rgb(95, 70, 144)\",\"rgb(29, 105, 150)\",\"rgb(56, 166, 165)\",\"rgb(15, 133, 84)\",\"rgb(115, 175, 72)\",\"rgb(237, 173, 8)\",\"rgb(225, 124, 5)\",\"rgb(204, 80, 62)\",\"rgb(148, 52, 110)\"]},\"name\":\"\",\"parents\":[\"\",\"\",\"\",\"\",\"\",\"\",\"\",\"\",\"\"],\"values\":[963,225,715,433,364,295,932,14,180],\"type\":\"treemap\",\"textinfo\":\"label+percent root\"}],                        {\"template\":{\"data\":{\"histogram2dcontour\":[{\"type\":\"histogram2dcontour\",\"colorbar\":{\"outlinewidth\":0,\"ticks\":\"\"},\"colorscale\":[[0.0,\"#0d0887\"],[0.1111111111111111,\"#46039f\"],[0.2222222222222222,\"#7201a8\"],[0.3333333333333333,\"#9c179e\"],[0.4444444444444444,\"#bd3786\"],[0.5555555555555556,\"#d8576b\"],[0.6666666666666666,\"#ed7953\"],[0.7777777777777778,\"#fb9f3a\"],[0.8888888888888888,\"#fdca26\"],[1.0,\"#f0f921\"]]}],\"choropleth\":[{\"type\":\"choropleth\",\"colorbar\":{\"outlinewidth\":0,\"ticks\":\"\"}}],\"histogram2d\":[{\"type\":\"histogram2d\",\"colorbar\":{\"outlinewidth\":0,\"ticks\":\"\"},\"colorscale\":[[0.0,\"#0d0887\"],[0.1111111111111111,\"#46039f\"],[0.2222222222222222,\"#7201a8\"],[0.3333333333333333,\"#9c179e\"],[0.4444444444444444,\"#bd3786\"],[0.5555555555555556,\"#d8576b\"],[0.6666666666666666,\"#ed7953\"],[0.7777777777777778,\"#fb9f3a\"],[0.8888888888888888,\"#fdca26\"],[1.0,\"#f0f921\"]]}],\"heatmap\":[{\"type\":\"heatmap\",\"colorbar\":{\"outlinewidth\":0,\"ticks\":\"\"},\"colorscale\":[[0.0,\"#0d0887\"],[0.1111111111111111,\"#46039f\"],[0.2222222222222222,\"#7201a8\"],[0.3333333333333333,\"#9c179e\"],[0.4444444444444444,\"#bd3786\"],[0.5555555555555556,\"#d8576b\"],[0.6666666666666666,\"#ed7953\"],[0.7777777777777778,\"#fb9f3a\"],[0.8888888888888888,\"#fdca26\"],[1.0,\"#f0f921\"]]}],\"heatmapgl\":[{\"type\":\"heatmapgl\",\"colorbar\":{\"outlinewidth\":0,\"ticks\":\"\"},\"colorscale\":[[0.0,\"#0d0887\"],[0.1111111111111111,\"#46039f\"],[0.2222222222222222,\"#7201a8\"],[0.3333333333333333,\"#9c179e\"],[0.4444444444444444,\"#bd3786\"],[0.5555555555555556,\"#d8576b\"],[0.6666666666666666,\"#ed7953\"],[0.7777777777777778,\"#fb9f3a\"],[0.8888888888888888,\"#fdca26\"],[1.0,\"#f0f921\"]]}],\"contourcarpet\":[{\"type\":\"contourcarpet\",\"colorbar\":{\"outlinewidth\":0,\"ticks\":\"\"}}],\"contour\":[{\"type\":\"contour\",\"colorbar\":{\"outlinewidth\":0,\"ticks\":\"\"},\"colorscale\":[[0.0,\"#0d0887\"],[0.1111111111111111,\"#46039f\"],[0.2222222222222222,\"#7201a8\"],[0.3333333333333333,\"#9c179e\"],[0.4444444444444444,\"#bd3786\"],[0.5555555555555556,\"#d8576b\"],[0.6666666666666666,\"#ed7953\"],[0.7777777777777778,\"#fb9f3a\"],[0.8888888888888888,\"#fdca26\"],[1.0,\"#f0f921\"]]}],\"surface\":[{\"type\":\"surface\",\"colorbar\":{\"outlinewidth\":0,\"ticks\":\"\"},\"colorscale\":[[0.0,\"#0d0887\"],[0.1111111111111111,\"#46039f\"],[0.2222222222222222,\"#7201a8\"],[0.3333333333333333,\"#9c179e\"],[0.4444444444444444,\"#bd3786\"],[0.5555555555555556,\"#d8576b\"],[0.6666666666666666,\"#ed7953\"],[0.7777777777777778,\"#fb9f3a\"],[0.8888888888888888,\"#fdca26\"],[1.0,\"#f0f921\"]]}],\"mesh3d\":[{\"type\":\"mesh3d\",\"colorbar\":{\"outlinewidth\":0,\"ticks\":\"\"}}],\"scatter\":[{\"fillpattern\":{\"fillmode\":\"overlay\",\"size\":10,\"solidity\":0.2},\"type\":\"scatter\"}],\"parcoords\":[{\"type\":\"parcoords\",\"line\":{\"colorbar\":{\"outlinewidth\":0,\"ticks\":\"\"}}}],\"scatterpolargl\":[{\"type\":\"scatterpolargl\",\"marker\":{\"colorbar\":{\"outlinewidth\":0,\"ticks\":\"\"}}}],\"bar\":[{\"error_x\":{\"color\":\"#2a3f5f\"},\"error_y\":{\"color\":\"#2a3f5f\"},\"marker\":{\"line\":{\"color\":\"#E5ECF6\",\"width\":0.5},\"pattern\":{\"fillmode\":\"overlay\",\"size\":10,\"solidity\":0.2}},\"type\":\"bar\"}],\"scattergeo\":[{\"type\":\"scattergeo\",\"marker\":{\"colorbar\":{\"outlinewidth\":0,\"ticks\":\"\"}}}],\"scatterpolar\":[{\"type\":\"scatterpolar\",\"marker\":{\"colorbar\":{\"outlinewidth\":0,\"ticks\":\"\"}}}],\"histogram\":[{\"marker\":{\"pattern\":{\"fillmode\":\"overlay\",\"size\":10,\"solidity\":0.2}},\"type\":\"histogram\"}],\"scattergl\":[{\"type\":\"scattergl\",\"marker\":{\"colorbar\":{\"outlinewidth\":0,\"ticks\":\"\"}}}],\"scatter3d\":[{\"type\":\"scatter3d\",\"line\":{\"colorbar\":{\"outlinewidth\":0,\"ticks\":\"\"}},\"marker\":{\"colorbar\":{\"outlinewidth\":0,\"ticks\":\"\"}}}],\"scattermapbox\":[{\"type\":\"scattermapbox\",\"marker\":{\"colorbar\":{\"outlinewidth\":0,\"ticks\":\"\"}}}],\"scatterternary\":[{\"type\":\"scatterternary\",\"marker\":{\"colorbar\":{\"outlinewidth\":0,\"ticks\":\"\"}}}],\"scattercarpet\":[{\"type\":\"scattercarpet\",\"marker\":{\"colorbar\":{\"outlinewidth\":0,\"ticks\":\"\"}}}],\"carpet\":[{\"aaxis\":{\"endlinecolor\":\"#2a3f5f\",\"gridcolor\":\"white\",\"linecolor\":\"white\",\"minorgridcolor\":\"white\",\"startlinecolor\":\"#2a3f5f\"},\"baxis\":{\"endlinecolor\":\"#2a3f5f\",\"gridcolor\":\"white\",\"linecolor\":\"white\",\"minorgridcolor\":\"white\",\"startlinecolor\":\"#2a3f5f\"},\"type\":\"carpet\"}],\"table\":[{\"cells\":{\"fill\":{\"color\":\"#EBF0F8\"},\"line\":{\"color\":\"white\"}},\"header\":{\"fill\":{\"color\":\"#C8D4E3\"},\"line\":{\"color\":\"white\"}},\"type\":\"table\"}],\"barpolar\":[{\"marker\":{\"line\":{\"color\":\"#E5ECF6\",\"width\":0.5},\"pattern\":{\"fillmode\":\"overlay\",\"size\":10,\"solidity\":0.2}},\"type\":\"barpolar\"}],\"pie\":[{\"automargin\":true,\"type\":\"pie\"}]},\"layout\":{\"autotypenumbers\":\"strict\",\"colorway\":[\"#636efa\",\"#EF553B\",\"#00cc96\",\"#ab63fa\",\"#FFA15A\",\"#19d3f3\",\"#FF6692\",\"#B6E880\",\"#FF97FF\",\"#FECB52\"],\"font\":{\"color\":\"#2a3f5f\"},\"hovermode\":\"closest\",\"hoverlabel\":{\"align\":\"left\"},\"paper_bgcolor\":\"white\",\"plot_bgcolor\":\"#E5ECF6\",\"polar\":{\"bgcolor\":\"#E5ECF6\",\"angularaxis\":{\"gridcolor\":\"white\",\"linecolor\":\"white\",\"ticks\":\"\"},\"radialaxis\":{\"gridcolor\":\"white\",\"linecolor\":\"white\",\"ticks\":\"\"}},\"ternary\":{\"bgcolor\":\"#E5ECF6\",\"aaxis\":{\"gridcolor\":\"white\",\"linecolor\":\"white\",\"ticks\":\"\"},\"baxis\":{\"gridcolor\":\"white\",\"linecolor\":\"white\",\"ticks\":\"\"},\"caxis\":{\"gridcolor\":\"white\",\"linecolor\":\"white\",\"ticks\":\"\"}},\"coloraxis\":{\"colorbar\":{\"outlinewidth\":0,\"ticks\":\"\"}},\"colorscale\":{\"sequential\":[[0.0,\"#0d0887\"],[0.1111111111111111,\"#46039f\"],[0.2222222222222222,\"#7201a8\"],[0.3333333333333333,\"#9c179e\"],[0.4444444444444444,\"#bd3786\"],[0.5555555555555556,\"#d8576b\"],[0.6666666666666666,\"#ed7953\"],[0.7777777777777778,\"#fb9f3a\"],[0.8888888888888888,\"#fdca26\"],[1.0,\"#f0f921\"]],\"sequentialminus\":[[0.0,\"#0d0887\"],[0.1111111111111111,\"#46039f\"],[0.2222222222222222,\"#7201a8\"],[0.3333333333333333,\"#9c179e\"],[0.4444444444444444,\"#bd3786\"],[0.5555555555555556,\"#d8576b\"],[0.6666666666666666,\"#ed7953\"],[0.7777777777777778,\"#fb9f3a\"],[0.8888888888888888,\"#fdca26\"],[1.0,\"#f0f921\"]],\"diverging\":[[0,\"#8e0152\"],[0.1,\"#c51b7d\"],[0.2,\"#de77ae\"],[0.3,\"#f1b6da\"],[0.4,\"#fde0ef\"],[0.5,\"#f7f7f7\"],[0.6,\"#e6f5d0\"],[0.7,\"#b8e186\"],[0.8,\"#7fbc41\"],[0.9,\"#4d9221\"],[1,\"#276419\"]]},\"xaxis\":{\"gridcolor\":\"white\",\"linecolor\":\"white\",\"ticks\":\"\",\"title\":{\"standoff\":15},\"zerolinecolor\":\"white\",\"automargin\":true,\"zerolinewidth\":2},\"yaxis\":{\"gridcolor\":\"white\",\"linecolor\":\"white\",\"ticks\":\"\",\"title\":{\"standoff\":15},\"zerolinecolor\":\"white\",\"automargin\":true,\"zerolinewidth\":2},\"scene\":{\"xaxis\":{\"backgroundcolor\":\"#E5ECF6\",\"gridcolor\":\"white\",\"linecolor\":\"white\",\"showbackground\":true,\"ticks\":\"\",\"zerolinecolor\":\"white\",\"gridwidth\":2},\"yaxis\":{\"backgroundcolor\":\"#E5ECF6\",\"gridcolor\":\"white\",\"linecolor\":\"white\",\"showbackground\":true,\"ticks\":\"\",\"zerolinecolor\":\"white\",\"gridwidth\":2},\"zaxis\":{\"backgroundcolor\":\"#E5ECF6\",\"gridcolor\":\"white\",\"linecolor\":\"white\",\"showbackground\":true,\"ticks\":\"\",\"zerolinecolor\":\"white\",\"gridwidth\":2}},\"shapedefaults\":{\"line\":{\"color\":\"#2a3f5f\"}},\"annotationdefaults\":{\"arrowcolor\":\"#2a3f5f\",\"arrowhead\":0,\"arrowwidth\":1},\"geo\":{\"bgcolor\":\"white\",\"landcolor\":\"#E5ECF6\",\"subunitcolor\":\"white\",\"showland\":true,\"showlakes\":true,\"lakecolor\":\"white\"},\"title\":{\"x\":0.05},\"mapbox\":{\"style\":\"light\"}}},\"legend\":{\"tracegroupgap\":0},\"title\":{\"text\":\"Customer Segmentation Split by count of customers\"},\"treemapcolorway\":[\"rgb(95, 70, 144)\",\"rgb(29, 105, 150)\",\"rgb(56, 166, 165)\",\"rgb(15, 133, 84)\",\"rgb(115, 175, 72)\",\"rgb(237, 173, 8)\",\"rgb(225, 124, 5)\",\"rgb(204, 80, 62)\",\"rgb(148, 52, 110)\",\"rgb(111, 64, 112)\",\"rgb(102, 102, 102)\"],\"width\":1700,\"height\":700},                        {\"responsive\": true}                    ).then(function(){\n",
              "                            \n",
              "var gd = document.getElementById('e2c1d544-de7e-4f92-a535-93ce14919be9');\n",
              "var x = new MutationObserver(function (mutations, observer) {{\n",
              "        var display = window.getComputedStyle(gd).display;\n",
              "        if (!display || display === 'none') {{\n",
              "            console.log([gd, 'removed!']);\n",
              "            Plotly.purge(gd);\n",
              "            observer.disconnect();\n",
              "        }}\n",
              "}});\n",
              "\n",
              "// Listen for the removal of the full notebook cells\n",
              "var notebookContainer = gd.closest('#notebook-container');\n",
              "if (notebookContainer) {{\n",
              "    x.observe(notebookContainer, {childList: true});\n",
              "}}\n",
              "\n",
              "// Listen for the clearing of the current output cell\n",
              "var outputEl = gd.closest('.output');\n",
              "if (outputEl) {{\n",
              "    x.observe(outputEl, {childList: true});\n",
              "}}\n",
              "\n",
              "                        })                };                            </script>        </div>\n",
              "</body>\n",
              "</html>"
            ]
          },
          "metadata": {}
        }
      ]
    },
    {
      "cell_type": "code",
      "source": [
        "# Create a chart to show customer segmentation split by monetary value (of Total Due)\n",
        "\n",
        "segment_monetary_values = df.groupby('customer_segment')['monetary'].sum().reset_index()\n",
        "segment_monetary_values['percentage_of_total'] = (segment_monetary_values['monetary'] / total_sales) * 100\n",
        "\n",
        "fig = px.bar(segment_monetary_values,\n",
        "             x='customer_segment',\n",
        "             y='monetary',\n",
        "             text='percentage_of_total',\n",
        "             title='Monetary Value of Customer Segments',\n",
        "             color='customer_segment',\n",
        "             color_discrete_sequence=px.colors.qualitative.Prism)\n",
        "\n",
        "# Format the annotations to show as percentages with one decimal\n",
        "fig.update_traces(texttemplate='%{text:.1f}%', textposition='outside')\n",
        "\n",
        "fig.update_layout(xaxis_title='Customer Segment',\n",
        "                  yaxis_title='Monetary Value',\n",
        "                  uniformtext_minsize=8,\n",
        "                  uniformtext_mode='hide',\n",
        "                  showlegend=False,\n",
        "                  width=1700, height=700)\n",
        "\n",
        "fig.show()"
      ],
      "metadata": {
        "colab": {
          "base_uri": "https://localhost:8080/",
          "height": 717
        },
        "id": "pfB3RPQVwx4f",
        "outputId": "cb269881-a542-4552-eac7-9f5523a470e6"
      },
      "execution_count": 29,
      "outputs": [
        {
          "output_type": "display_data",
          "data": {
            "text/html": [
              "<html>\n",
              "<head><meta charset=\"utf-8\" /></head>\n",
              "<body>\n",
              "    <div>            <script src=\"https://cdnjs.cloudflare.com/ajax/libs/mathjax/2.7.5/MathJax.js?config=TeX-AMS-MML_SVG\"></script><script type=\"text/javascript\">if (window.MathJax && window.MathJax.Hub && window.MathJax.Hub.Config) {window.MathJax.Hub.Config({SVG: {font: \"STIX-Web\"}});}</script>                <script type=\"text/javascript\">window.PlotlyConfig = {MathJaxConfig: 'local'};</script>\n",
              "        <script charset=\"utf-8\" src=\"https://cdn.plot.ly/plotly-2.24.1.min.js\"></script>                <div id=\"693cc0c0-6f63-4161-8c60-84e4a5a04805\" class=\"plotly-graph-div\" style=\"height:700px; width:1700px;\"></div>            <script type=\"text/javascript\">                                    window.PLOTLYENV=window.PLOTLYENV || {};                                    if (document.getElementById(\"693cc0c0-6f63-4161-8c60-84e4a5a04805\")) {                    Plotly.newPlot(                        \"693cc0c0-6f63-4161-8c60-84e4a5a04805\",                        [{\"alignmentgroup\":\"True\",\"hovertemplate\":\"customer_segment=%{x}\\u003cbr\\u003emonetary=%{y}\\u003cbr\\u003epercentage_of_total=%{text}\\u003cextra\\u003e\\u003c\\u002fextra\\u003e\",\"legendgroup\":\"About to sleep\",\"marker\":{\"color\":\"rgb(95, 70, 144)\",\"pattern\":{\"shape\":\"\"}},\"name\":\"About to sleep\",\"offsetgroup\":\"About to sleep\",\"orientation\":\"v\",\"showlegend\":true,\"text\":[5.740016125601234],\"textposition\":\"outside\",\"x\":[\"About to sleep\"],\"xaxis\":\"x\",\"y\":[481771.901],\"yaxis\":\"y\",\"type\":\"bar\",\"texttemplate\":\"%{text:.1f}%\"},{\"alignmentgroup\":\"True\",\"hovertemplate\":\"customer_segment=%{x}\\u003cbr\\u003emonetary=%{y}\\u003cbr\\u003epercentage_of_total=%{text}\\u003cextra\\u003e\\u003c\\u002fextra\\u003e\",\"legendgroup\":\"At risk\",\"marker\":{\"color\":\"rgb(29, 105, 150)\",\"pattern\":{\"shape\":\"\"}},\"name\":\"At risk\",\"offsetgroup\":\"At risk\",\"orientation\":\"v\",\"showlegend\":true,\"text\":[0.6116678686617539],\"textposition\":\"outside\",\"x\":[\"At risk\"],\"xaxis\":\"x\",\"y\":[51338.6],\"yaxis\":\"y\",\"type\":\"bar\",\"texttemplate\":\"%{text:.1f}%\"},{\"alignmentgroup\":\"True\",\"hovertemplate\":\"customer_segment=%{x}\\u003cbr\\u003emonetary=%{y}\\u003cbr\\u003epercentage_of_total=%{text}\\u003cextra\\u003e\\u003c\\u002fextra\\u003e\",\"legendgroup\":\"Best Customers\",\"marker\":{\"color\":\"rgb(56, 166, 165)\",\"pattern\":{\"shape\":\"\"}},\"name\":\"Best Customers\",\"offsetgroup\":\"Best Customers\",\"orientation\":\"v\",\"showlegend\":true,\"text\":[47.85383700342033],\"textposition\":\"outside\",\"x\":[\"Best Customers\"],\"xaxis\":\"x\",\"y\":[4016475.48],\"yaxis\":\"y\",\"type\":\"bar\",\"texttemplate\":\"%{text:.1f}%\"},{\"alignmentgroup\":\"True\",\"hovertemplate\":\"customer_segment=%{x}\\u003cbr\\u003emonetary=%{y}\\u003cbr\\u003epercentage_of_total=%{text}\\u003cextra\\u003e\\u003c\\u002fextra\\u003e\",\"legendgroup\":\"Lost\",\"marker\":{\"color\":\"rgb(15, 133, 84)\",\"pattern\":{\"shape\":\"\"}},\"name\":\"Lost\",\"offsetgroup\":\"Lost\",\"orientation\":\"v\",\"showlegend\":true,\"text\":[3.5551171505456067],\"textposition\":\"outside\",\"x\":[\"Lost\"],\"xaxis\":\"x\",\"y\":[298388.63],\"yaxis\":\"y\",\"type\":\"bar\",\"texttemplate\":\"%{text:.1f}%\"},{\"alignmentgroup\":\"True\",\"hovertemplate\":\"customer_segment=%{x}\\u003cbr\\u003emonetary=%{y}\\u003cbr\\u003epercentage_of_total=%{text}\\u003cextra\\u003e\\u003c\\u002fextra\\u003e\",\"legendgroup\":\"Loyal Customers\",\"marker\":{\"color\":\"rgb(115, 175, 72)\",\"pattern\":{\"shape\":\"\"}},\"name\":\"Loyal Customers\",\"offsetgroup\":\"Loyal Customers\",\"orientation\":\"v\",\"showlegend\":true,\"text\":[5.037847288039852],\"textposition\":\"outside\",\"x\":[\"Loyal Customers\"],\"xaxis\":\"x\",\"y\":[422837.36],\"yaxis\":\"y\",\"type\":\"bar\",\"texttemplate\":\"%{text:.1f}%\"},{\"alignmentgroup\":\"True\",\"hovertemplate\":\"customer_segment=%{x}\\u003cbr\\u003emonetary=%{y}\\u003cbr\\u003epercentage_of_total=%{text}\\u003cextra\\u003e\\u003c\\u002fextra\\u003e\",\"legendgroup\":\"Needing attention\",\"marker\":{\"color\":\"rgb(237, 173, 8)\",\"pattern\":{\"shape\":\"\"}},\"name\":\"Needing attention\",\"offsetgroup\":\"Needing attention\",\"orientation\":\"v\",\"showlegend\":true,\"text\":[8.142512144840042],\"textposition\":\"outside\",\"x\":[\"Needing attention\"],\"xaxis\":\"x\",\"y\":[683418.5599999999],\"yaxis\":\"y\",\"type\":\"bar\",\"texttemplate\":\"%{text:.1f}%\"},{\"alignmentgroup\":\"True\",\"hovertemplate\":\"customer_segment=%{x}\\u003cbr\\u003emonetary=%{y}\\u003cbr\\u003epercentage_of_total=%{text}\\u003cextra\\u003e\\u003c\\u002fextra\\u003e\",\"legendgroup\":\"New and recent customers\",\"marker\":{\"color\":\"rgb(225, 124, 5)\",\"pattern\":{\"shape\":\"\"}},\"name\":\"New and recent customers\",\"offsetgroup\":\"New and recent customers\",\"orientation\":\"v\",\"showlegend\":true,\"text\":[0.6023607081828453],\"textposition\":\"outside\",\"x\":[\"New and recent customers\"],\"xaxis\":\"x\",\"y\":[50557.43],\"yaxis\":\"y\",\"type\":\"bar\",\"texttemplate\":\"%{text:.1f}%\"},{\"alignmentgroup\":\"True\",\"hovertemplate\":\"customer_segment=%{x}\\u003cbr\\u003emonetary=%{y}\\u003cbr\\u003epercentage_of_total=%{text}\\u003cextra\\u003e\\u003c\\u002fextra\\u003e\",\"legendgroup\":\"Potential Loyalists\",\"marker\":{\"color\":\"rgb(204, 80, 62)\",\"pattern\":{\"shape\":\"\"}},\"name\":\"Potential Loyalists\",\"offsetgroup\":\"Potential Loyalists\",\"orientation\":\"v\",\"showlegend\":true,\"text\":[24.149950209413873],\"textposition\":\"outside\",\"x\":[\"Potential Loyalists\"],\"xaxis\":\"x\",\"y\":[2026957.271],\"yaxis\":\"y\",\"type\":\"bar\",\"texttemplate\":\"%{text:.1f}%\"},{\"alignmentgroup\":\"True\",\"hovertemplate\":\"customer_segment=%{x}\\u003cbr\\u003emonetary=%{y}\\u003cbr\\u003epercentage_of_total=%{text}\\u003cextra\\u003e\\u003c\\u002fextra\\u003e\",\"legendgroup\":\"Slipping customers\",\"marker\":{\"color\":\"rgb(148, 52, 110)\",\"pattern\":{\"shape\":\"\"}},\"name\":\"Slipping customers\",\"offsetgroup\":\"Slipping customers\",\"orientation\":\"v\",\"showlegend\":true,\"text\":[1.8659270359789804],\"textposition\":\"outside\",\"x\":[\"Slipping customers\"],\"xaxis\":\"x\",\"y\":[156611.27],\"yaxis\":\"y\",\"type\":\"bar\",\"texttemplate\":\"%{text:.1f}%\"}],                        {\"template\":{\"data\":{\"histogram2dcontour\":[{\"type\":\"histogram2dcontour\",\"colorbar\":{\"outlinewidth\":0,\"ticks\":\"\"},\"colorscale\":[[0.0,\"#0d0887\"],[0.1111111111111111,\"#46039f\"],[0.2222222222222222,\"#7201a8\"],[0.3333333333333333,\"#9c179e\"],[0.4444444444444444,\"#bd3786\"],[0.5555555555555556,\"#d8576b\"],[0.6666666666666666,\"#ed7953\"],[0.7777777777777778,\"#fb9f3a\"],[0.8888888888888888,\"#fdca26\"],[1.0,\"#f0f921\"]]}],\"choropleth\":[{\"type\":\"choropleth\",\"colorbar\":{\"outlinewidth\":0,\"ticks\":\"\"}}],\"histogram2d\":[{\"type\":\"histogram2d\",\"colorbar\":{\"outlinewidth\":0,\"ticks\":\"\"},\"colorscale\":[[0.0,\"#0d0887\"],[0.1111111111111111,\"#46039f\"],[0.2222222222222222,\"#7201a8\"],[0.3333333333333333,\"#9c179e\"],[0.4444444444444444,\"#bd3786\"],[0.5555555555555556,\"#d8576b\"],[0.6666666666666666,\"#ed7953\"],[0.7777777777777778,\"#fb9f3a\"],[0.8888888888888888,\"#fdca26\"],[1.0,\"#f0f921\"]]}],\"heatmap\":[{\"type\":\"heatmap\",\"colorbar\":{\"outlinewidth\":0,\"ticks\":\"\"},\"colorscale\":[[0.0,\"#0d0887\"],[0.1111111111111111,\"#46039f\"],[0.2222222222222222,\"#7201a8\"],[0.3333333333333333,\"#9c179e\"],[0.4444444444444444,\"#bd3786\"],[0.5555555555555556,\"#d8576b\"],[0.6666666666666666,\"#ed7953\"],[0.7777777777777778,\"#fb9f3a\"],[0.8888888888888888,\"#fdca26\"],[1.0,\"#f0f921\"]]}],\"heatmapgl\":[{\"type\":\"heatmapgl\",\"colorbar\":{\"outlinewidth\":0,\"ticks\":\"\"},\"colorscale\":[[0.0,\"#0d0887\"],[0.1111111111111111,\"#46039f\"],[0.2222222222222222,\"#7201a8\"],[0.3333333333333333,\"#9c179e\"],[0.4444444444444444,\"#bd3786\"],[0.5555555555555556,\"#d8576b\"],[0.6666666666666666,\"#ed7953\"],[0.7777777777777778,\"#fb9f3a\"],[0.8888888888888888,\"#fdca26\"],[1.0,\"#f0f921\"]]}],\"contourcarpet\":[{\"type\":\"contourcarpet\",\"colorbar\":{\"outlinewidth\":0,\"ticks\":\"\"}}],\"contour\":[{\"type\":\"contour\",\"colorbar\":{\"outlinewidth\":0,\"ticks\":\"\"},\"colorscale\":[[0.0,\"#0d0887\"],[0.1111111111111111,\"#46039f\"],[0.2222222222222222,\"#7201a8\"],[0.3333333333333333,\"#9c179e\"],[0.4444444444444444,\"#bd3786\"],[0.5555555555555556,\"#d8576b\"],[0.6666666666666666,\"#ed7953\"],[0.7777777777777778,\"#fb9f3a\"],[0.8888888888888888,\"#fdca26\"],[1.0,\"#f0f921\"]]}],\"surface\":[{\"type\":\"surface\",\"colorbar\":{\"outlinewidth\":0,\"ticks\":\"\"},\"colorscale\":[[0.0,\"#0d0887\"],[0.1111111111111111,\"#46039f\"],[0.2222222222222222,\"#7201a8\"],[0.3333333333333333,\"#9c179e\"],[0.4444444444444444,\"#bd3786\"],[0.5555555555555556,\"#d8576b\"],[0.6666666666666666,\"#ed7953\"],[0.7777777777777778,\"#fb9f3a\"],[0.8888888888888888,\"#fdca26\"],[1.0,\"#f0f921\"]]}],\"mesh3d\":[{\"type\":\"mesh3d\",\"colorbar\":{\"outlinewidth\":0,\"ticks\":\"\"}}],\"scatter\":[{\"fillpattern\":{\"fillmode\":\"overlay\",\"size\":10,\"solidity\":0.2},\"type\":\"scatter\"}],\"parcoords\":[{\"type\":\"parcoords\",\"line\":{\"colorbar\":{\"outlinewidth\":0,\"ticks\":\"\"}}}],\"scatterpolargl\":[{\"type\":\"scatterpolargl\",\"marker\":{\"colorbar\":{\"outlinewidth\":0,\"ticks\":\"\"}}}],\"bar\":[{\"error_x\":{\"color\":\"#2a3f5f\"},\"error_y\":{\"color\":\"#2a3f5f\"},\"marker\":{\"line\":{\"color\":\"#E5ECF6\",\"width\":0.5},\"pattern\":{\"fillmode\":\"overlay\",\"size\":10,\"solidity\":0.2}},\"type\":\"bar\"}],\"scattergeo\":[{\"type\":\"scattergeo\",\"marker\":{\"colorbar\":{\"outlinewidth\":0,\"ticks\":\"\"}}}],\"scatterpolar\":[{\"type\":\"scatterpolar\",\"marker\":{\"colorbar\":{\"outlinewidth\":0,\"ticks\":\"\"}}}],\"histogram\":[{\"marker\":{\"pattern\":{\"fillmode\":\"overlay\",\"size\":10,\"solidity\":0.2}},\"type\":\"histogram\"}],\"scattergl\":[{\"type\":\"scattergl\",\"marker\":{\"colorbar\":{\"outlinewidth\":0,\"ticks\":\"\"}}}],\"scatter3d\":[{\"type\":\"scatter3d\",\"line\":{\"colorbar\":{\"outlinewidth\":0,\"ticks\":\"\"}},\"marker\":{\"colorbar\":{\"outlinewidth\":0,\"ticks\":\"\"}}}],\"scattermapbox\":[{\"type\":\"scattermapbox\",\"marker\":{\"colorbar\":{\"outlinewidth\":0,\"ticks\":\"\"}}}],\"scatterternary\":[{\"type\":\"scatterternary\",\"marker\":{\"colorbar\":{\"outlinewidth\":0,\"ticks\":\"\"}}}],\"scattercarpet\":[{\"type\":\"scattercarpet\",\"marker\":{\"colorbar\":{\"outlinewidth\":0,\"ticks\":\"\"}}}],\"carpet\":[{\"aaxis\":{\"endlinecolor\":\"#2a3f5f\",\"gridcolor\":\"white\",\"linecolor\":\"white\",\"minorgridcolor\":\"white\",\"startlinecolor\":\"#2a3f5f\"},\"baxis\":{\"endlinecolor\":\"#2a3f5f\",\"gridcolor\":\"white\",\"linecolor\":\"white\",\"minorgridcolor\":\"white\",\"startlinecolor\":\"#2a3f5f\"},\"type\":\"carpet\"}],\"table\":[{\"cells\":{\"fill\":{\"color\":\"#EBF0F8\"},\"line\":{\"color\":\"white\"}},\"header\":{\"fill\":{\"color\":\"#C8D4E3\"},\"line\":{\"color\":\"white\"}},\"type\":\"table\"}],\"barpolar\":[{\"marker\":{\"line\":{\"color\":\"#E5ECF6\",\"width\":0.5},\"pattern\":{\"fillmode\":\"overlay\",\"size\":10,\"solidity\":0.2}},\"type\":\"barpolar\"}],\"pie\":[{\"automargin\":true,\"type\":\"pie\"}]},\"layout\":{\"autotypenumbers\":\"strict\",\"colorway\":[\"#636efa\",\"#EF553B\",\"#00cc96\",\"#ab63fa\",\"#FFA15A\",\"#19d3f3\",\"#FF6692\",\"#B6E880\",\"#FF97FF\",\"#FECB52\"],\"font\":{\"color\":\"#2a3f5f\"},\"hovermode\":\"closest\",\"hoverlabel\":{\"align\":\"left\"},\"paper_bgcolor\":\"white\",\"plot_bgcolor\":\"#E5ECF6\",\"polar\":{\"bgcolor\":\"#E5ECF6\",\"angularaxis\":{\"gridcolor\":\"white\",\"linecolor\":\"white\",\"ticks\":\"\"},\"radialaxis\":{\"gridcolor\":\"white\",\"linecolor\":\"white\",\"ticks\":\"\"}},\"ternary\":{\"bgcolor\":\"#E5ECF6\",\"aaxis\":{\"gridcolor\":\"white\",\"linecolor\":\"white\",\"ticks\":\"\"},\"baxis\":{\"gridcolor\":\"white\",\"linecolor\":\"white\",\"ticks\":\"\"},\"caxis\":{\"gridcolor\":\"white\",\"linecolor\":\"white\",\"ticks\":\"\"}},\"coloraxis\":{\"colorbar\":{\"outlinewidth\":0,\"ticks\":\"\"}},\"colorscale\":{\"sequential\":[[0.0,\"#0d0887\"],[0.1111111111111111,\"#46039f\"],[0.2222222222222222,\"#7201a8\"],[0.3333333333333333,\"#9c179e\"],[0.4444444444444444,\"#bd3786\"],[0.5555555555555556,\"#d8576b\"],[0.6666666666666666,\"#ed7953\"],[0.7777777777777778,\"#fb9f3a\"],[0.8888888888888888,\"#fdca26\"],[1.0,\"#f0f921\"]],\"sequentialminus\":[[0.0,\"#0d0887\"],[0.1111111111111111,\"#46039f\"],[0.2222222222222222,\"#7201a8\"],[0.3333333333333333,\"#9c179e\"],[0.4444444444444444,\"#bd3786\"],[0.5555555555555556,\"#d8576b\"],[0.6666666666666666,\"#ed7953\"],[0.7777777777777778,\"#fb9f3a\"],[0.8888888888888888,\"#fdca26\"],[1.0,\"#f0f921\"]],\"diverging\":[[0,\"#8e0152\"],[0.1,\"#c51b7d\"],[0.2,\"#de77ae\"],[0.3,\"#f1b6da\"],[0.4,\"#fde0ef\"],[0.5,\"#f7f7f7\"],[0.6,\"#e6f5d0\"],[0.7,\"#b8e186\"],[0.8,\"#7fbc41\"],[0.9,\"#4d9221\"],[1,\"#276419\"]]},\"xaxis\":{\"gridcolor\":\"white\",\"linecolor\":\"white\",\"ticks\":\"\",\"title\":{\"standoff\":15},\"zerolinecolor\":\"white\",\"automargin\":true,\"zerolinewidth\":2},\"yaxis\":{\"gridcolor\":\"white\",\"linecolor\":\"white\",\"ticks\":\"\",\"title\":{\"standoff\":15},\"zerolinecolor\":\"white\",\"automargin\":true,\"zerolinewidth\":2},\"scene\":{\"xaxis\":{\"backgroundcolor\":\"#E5ECF6\",\"gridcolor\":\"white\",\"linecolor\":\"white\",\"showbackground\":true,\"ticks\":\"\",\"zerolinecolor\":\"white\",\"gridwidth\":2},\"yaxis\":{\"backgroundcolor\":\"#E5ECF6\",\"gridcolor\":\"white\",\"linecolor\":\"white\",\"showbackground\":true,\"ticks\":\"\",\"zerolinecolor\":\"white\",\"gridwidth\":2},\"zaxis\":{\"backgroundcolor\":\"#E5ECF6\",\"gridcolor\":\"white\",\"linecolor\":\"white\",\"showbackground\":true,\"ticks\":\"\",\"zerolinecolor\":\"white\",\"gridwidth\":2}},\"shapedefaults\":{\"line\":{\"color\":\"#2a3f5f\"}},\"annotationdefaults\":{\"arrowcolor\":\"#2a3f5f\",\"arrowhead\":0,\"arrowwidth\":1},\"geo\":{\"bgcolor\":\"white\",\"landcolor\":\"#E5ECF6\",\"subunitcolor\":\"white\",\"showland\":true,\"showlakes\":true,\"lakecolor\":\"white\"},\"title\":{\"x\":0.05},\"mapbox\":{\"style\":\"light\"}}},\"xaxis\":{\"anchor\":\"y\",\"domain\":[0.0,1.0],\"title\":{\"text\":\"Customer Segment\"},\"categoryorder\":\"array\",\"categoryarray\":[\"About to sleep\",\"At risk\",\"Best Customers\",\"Lost\",\"Loyal Customers\",\"Needing attention\",\"New and recent customers\",\"Potential Loyalists\",\"Slipping customers\"]},\"yaxis\":{\"anchor\":\"x\",\"domain\":[0.0,1.0],\"title\":{\"text\":\"Monetary Value\"}},\"legend\":{\"title\":{\"text\":\"customer_segment\"},\"tracegroupgap\":0},\"title\":{\"text\":\"Monetary Value of Customer Segments\"},\"barmode\":\"relative\",\"uniformtext\":{\"minsize\":8,\"mode\":\"hide\"},\"showlegend\":false,\"width\":1700,\"height\":700},                        {\"responsive\": true}                    ).then(function(){\n",
              "                            \n",
              "var gd = document.getElementById('693cc0c0-6f63-4161-8c60-84e4a5a04805');\n",
              "var x = new MutationObserver(function (mutations, observer) {{\n",
              "        var display = window.getComputedStyle(gd).display;\n",
              "        if (!display || display === 'none') {{\n",
              "            console.log([gd, 'removed!']);\n",
              "            Plotly.purge(gd);\n",
              "            observer.disconnect();\n",
              "        }}\n",
              "}});\n",
              "\n",
              "// Listen for the removal of the full notebook cells\n",
              "var notebookContainer = gd.closest('#notebook-container');\n",
              "if (notebookContainer) {{\n",
              "    x.observe(notebookContainer, {childList: true});\n",
              "}}\n",
              "\n",
              "// Listen for the clearing of the current output cell\n",
              "var outputEl = gd.closest('.output');\n",
              "if (outputEl) {{\n",
              "    x.observe(outputEl, {childList: true});\n",
              "}}\n",
              "\n",
              "                        })                };                            </script>        </div>\n",
              "</body>\n",
              "</html>"
            ]
          },
          "metadata": {}
        }
      ]
    },
    {
      "cell_type": "markdown",
      "source": [
        "**Insights and suggestions**\n",
        "\n",
        "*   Even though best customers make up only 11% of the customer base during this time period, their combined monetary value from total sales is nearly half of total sales.\n",
        "\n",
        "*   The second segment with the biggest monetary values is also one of the largest, when it comes to the number of customers - Potential loyalists\n",
        "\n",
        "*   When focusing marketing efforts and budget, it's important to keep in mind that it's always cheaper to keep existing customers than to gain new ones.\n",
        "I would mainly focus the efforts on the Best Customers and Potential Loyalists segments.\n",
        "It's important to keep up engagement with them and make sure they also know you appreciate their loyalty. You could offer loyalty programmes or the opportunity to test new products before everyone else.\n",
        "\n",
        "*   As a secondary priority I would try and reengage with the needing attention and about to sleep segments, but with a lower budget - for example recommending popular products and personalised discounts through email-campaigns."
      ],
      "metadata": {
        "id": "PlzWUBdQNXj7"
      }
    }
  ]
}